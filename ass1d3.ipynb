{
  "nbformat": 4,
  "nbformat_minor": 0,
  "metadata": {
    "colab": {
      "name": "ass1d3.ipynb",
      "provenance": []
    },
    "kernelspec": {
      "name": "python3",
      "display_name": "Python 3"
    }
  },
  "cells": [
    {
      "cell_type": "code",
      "metadata": {
        "id": "hw1ZtIouRcgQ",
        "colab_type": "code",
        "colab": {
          "base_uri": "https://localhost:8080/",
          "height": 51
        },
        "outputId": "e2bb79bd-a7a1-40b4-b95e-b2395cdbab6e"
      },
      "source": [
        "n=int(input(\"enter altitude\"))\n",
        "if n<1000:\n",
        "  print(\"Safe to land\")\n",
        "elif 1000<n<5000:\n",
        "  print(\"Bring down to 1000\")\n",
        "else:\n",
        "  print(\"Turn around\")"
      ],
      "execution_count": 6,
      "outputs": [
        {
          "output_type": "stream",
          "text": [
            "enter altitude6500\n",
            "Turn around\n"
          ],
          "name": "stdout"
        }
      ]
    },
    {
      "cell_type": "code",
      "metadata": {
        "id": "dvZWAmm0V45H",
        "colab_type": "code",
        "colab": {
          "base_uri": "https://localhost:8080/",
          "height": 34
        },
        "outputId": "4639deea-6890-47c6-bee3-a06646e6470e"
      },
      "source": [
        "for n in range(0,200):\n",
        "  if n>1:\n",
        "    for i in range(2,n):\n",
        "      if n%i==0:\n",
        "        \n",
        "         break\n",
        "    else:\n",
        "      print(n,end=\",\")"
      ],
      "execution_count": 10,
      "outputs": [
        {
          "output_type": "stream",
          "text": [
            "2,3,5,7,11,13,17,19,23,29,31,37,41,43,47,53,59,61,67,71,73,79,83,89,97,101,103,107,109,113,127,131,137,139,149,151,157,163,167,173,179,181,191,193,197,199,"
          ],
          "name": "stdout"
        }
      ]
    }
  ]
}